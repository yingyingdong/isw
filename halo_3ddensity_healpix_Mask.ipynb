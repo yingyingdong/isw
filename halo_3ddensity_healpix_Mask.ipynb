{
 "cells": [
  {
   "cell_type": "code",
   "execution_count": 1,
   "metadata": {},
   "outputs": [
    {
     "name": "stdout",
     "output_type": "stream",
     "text": [
      "Populating the interactive namespace from numpy and matplotlib\n"
     ]
    }
   ],
   "source": [
    "%pylab inline\n",
    "import cosmology as cosmo\n",
    "import prepare as pre\n",
    "from scipy import spatial\n",
    "import sys\n",
    "import healpy as hp\n",
    "#import mpi4py.MPI as MPI\n",
    "nside = 512\n",
    "nside_ldp = 4096"
   ]
  },
  {
   "cell_type": "code",
   "execution_count": 2,
   "metadata": {},
   "outputs": [
    {
     "data": {
      "text/plain": [
       "'/mnt/ddnfs/data_users/fydong/8100/cal_halo/produce-cmb'"
      ]
     },
     "execution_count": 2,
     "metadata": {},
     "output_type": "execute_result"
    }
   ],
   "source": [
    "pwd"
   ]
  },
  {
   "cell_type": "code",
   "execution_count": 4,
   "metadata": {},
   "outputs": [],
   "source": [
    "class dL_z():\n",
    "    def __init__(self,om0,ol0,ww):\n",
    "        self.nz = 10000\n",
    "        self.nbox  = 3\n",
    "        self.zmin  = 0.\n",
    "        self.zmax  = 10.\n",
    "        self.zstep = (self.zmax-self.zmin)/self.nz\n",
    "        self.zbin  = self.zstep*np.arange(self.nz)+self.zmin\n",
    "        self.dC    = np.zeros(self.nz)\n",
    "        for i in np.arange(self.nz):\n",
    "            self.dC[i] = cosmo.d_comoving_w(self.zbin[i],ol0,om0,ww)\n",
    "        self.coef_dz  = np.polyfit(self.dC,   self.zbin, 10)\n",
    "        self.coef_zd  = np.polyfit(self.zbin, self.dC,   10)\n",
    "\n",
    "class DENSITY():\n",
    "    def __init__(self,om0,ol0):\n",
    "        self.om0    = om0\n",
    "        self.ol0    = ol0\n",
    "        self.boxize = pre.boxize/1.\n",
    "        self.boxhalf= pre.boxize/2.\n",
    "        self.nx     = 512\n",
    "        self.nsnap  = 8\n",
    "        self.cM     = 300000. # km/s\n",
    "        self.H0     = 100 #100h km/s /Mpc,h=0.1\n",
    "        _zsnap      = np.loadtxt(pre.simu+'_snapz.dat')\n",
    "        self.snap   = np.int32(_zsnap[:,0])\n",
    "        self.zsnap  = _zsnap[:,1]\n",
    "        self.zstart,self.zend = 0.01,0.6#0.01,0.6\n",
    "        self.rstart = cosmo.d_comoving(self.zstart,self.ol0,self.om0)\n",
    "        self.rend   = cosmo.d_comoving(self.zend,self.ol0,self.om0)\n",
    "    def load_halo(self,dirh,i):\n",
    "        xh          = np.load(dirh+'current_mlimit-3_simu'+pre.simu+'_Nsnap'+np.str(i)+'.npy')\n",
    "        xh[:,:3]    = xh[:,:3]/1e3\n",
    "        #period condition\n",
    "        for i in np.arange(3):\n",
    "            _id1,_id2   = (xh[:,i]<0),(xh[:,i]>self.boxize)\n",
    "            xh[_id1,i] = xh[_id1,i]+self.boxize\n",
    "            xh[_id2,i] = xh[_id2,i]-self.boxize\n",
    "        return xh\n",
    "    def abundance(self,iz):\n",
    "        _coef   = np.loadtxt('abundance/simu'+pre.simu+'-'+self.zobs[iz]+'-'+self.zobs[iz+1]+'Mh_Mag.dat')\n",
    "        _mlimit = np.polyval(_coef,Mag)\n",
    "        index_m = (np.log10(self.xh[:,-1])+10>_mlimit)\n",
    "        sys.stdout.write('abundance,_mlimit=%lg,nsub=%d\\n'%(_mlimit,np.count_nonzero(index_m)))\n",
    "        sys.stdout.flush()\n",
    "        return self.xh[index_m]\n",
    "    def gen_halo(self,Mag,flag_load):\n",
    "        self.fname_base = 'BASSz'+np.str(self.zstart)+'-'+np.str(self.zend)+'Mag'+np.str(Mag)\n",
    "        self.zobs   = ['0.01','0.2','0.4','0.6']\n",
    "        if(flag_load==0):\n",
    "            for i in np.arange(self.nsnap-1)+1:\n",
    "                _z1     = self.zsnap[i]\n",
    "                _z2     = self.zsnap[i-1]\n",
    "                _zm     = 0.5*(_z1+_z2)\n",
    "                _iz     = np.min((np.int32(np.floor(_zm/0.2)),2)) #ensure z<0.6\n",
    "                if(flag_load==0):\n",
    "                    self.xh  = self.load_halo(dirh,self.snap[i])\n",
    "                    print('snapshot=%d,z1=%lg,z2=%lg,zm=%lg,iz=%d,%d'%(self.snap[i],_z1,_z2,_zm,_iz,(np.int32(np.floor(_zm/0.2)))))\n",
    "                    self.xh  = self.abundance(_iz)\n",
    "                    if(i==1):  self.halo = self.xh[:,:3].copy()\n",
    "                    _d1      = cosmo.d_comoving(_z1,self.ol0,self.om0)\n",
    "                    _d2      = cosmo.d_comoving(_z2,self.ol0,self.om0)\n",
    "                    _tmp     = self.rotate(_d1,_d2,self.xh[:,:3])\n",
    "                    if(i==1): self.halo = _tmp.copy()\n",
    "                    else:     self.halo = np.append(self.halo,_tmp,0)\n",
    "            ##index = (self.halo[:,2]>self.rstart)*(self.halo[:,2]<self.rend)\n",
    "            self.halo = self.halo\n",
    "            np.save(dirh+self.fname_base+'.npy',self.halo)\n",
    "        if(flag_load==1):\n",
    "            self.halo = np.load(dirh+self.fname_base+'.npy')\n",
    "\n",
    "    def rotate(self,d1,d2,pos):\n",
    "        n11  = np.int32(d1/self.boxize)\n",
    "        n21  = np.int32(d2/self.boxize)\n",
    "        sys.stdout.write(\"n11=%d,n21=%d,d1=%lg,d2=%lg\\n\"%(n11,n21,d1,d2))\n",
    "        sys.stdout.flush()\n",
    "        if((n11==0) and (n21==0)): _pos = pre.pos_xyz(pos,0,d1,d2,2)\n",
    "        if((n11==1) and (n21==1)):  _pos = pre.pos_xyz(pos,self.boxize,d1,d2,1)\n",
    "        if((n11==2) and (n21==2)): _pos = pre.pos_xyz(pos,2*self.boxize,d1,d2,0)\n",
    "        if((n11==0  and  n21==1) or (n11==1 and n21==2) or (n11==2 and n21==3)):\n",
    "            _pos = pre.pos_xyz_rotate_slice(pos,n11,n21,d1,d2,self.boxize)\n",
    "        return _pos\n",
    "\n",
    "    def gen_edge_halo(self):\n",
    "        self.dmax       = self.rend#self.boxize*3.\n",
    "        self.ran        = np.zeros((3,2))\n",
    "        r2 = np.sqrt(self.boxhalf**2.+self.dmax**2.)\n",
    "        r3 = np.sqrt(r2**2.+self.boxhalf**2.)\n",
    "        self.ran[0,1]   = np.arcsin(self.boxhalf/r3) #theta\n",
    "        self.ran[1,1]   = np.arcsin(self.boxhalf/r2) #phi\n",
    "        self.ran[0,0],self.ran[1,0] = -self.ran[0,1],-self.ran[1,1]\n",
    "        self.ran[2,0],self.ran[2,1] = self.zstart,self.zend\n",
    "    def gen_radec_halo(self,Mag,flag_radec): #err in the early version\n",
    "        self.gen_edge_halo()\n",
    "        if(flag_radec==0):\n",
    "            dlz = dL_z(self.om0,self.ol0,-1.)\n",
    "            self.radec = np.zeros((self.halo.shape[0],4))\n",
    "            for i in np.arange(2):\n",
    "                self.halo[:,i] = self.halo[:,i]-self.boxhalf\n",
    "            _r2 = np.sqrt(self.halo[:,1]**2.+self.halo[:,2]**2.)\n",
    "            self.radec[:,2] = np.sqrt(_r2**2.+self.halo[:,0]**2.)\n",
    "            self.radec[:,0] = np.arcsin(self.halo[:,0]/self.radec[:,2]) #dec\n",
    "            self.radec[:,1] = np.arcsin(self.halo[:,1]/_r2)             #ra\n",
    "            self.radec[:,3] = np.polyval(dlz.coef_dz,self.radec[:,2])\n",
    "            index = (self.radec[:,0]>self.ran[0,0])*(self.radec[:,0]<self.ran[0,1])*(self.radec[:,1]>self.ran[1,0])*(self.radec[:,1]<self.ran[1,1])*(self.radec[:,3]>self.ran[2,0])*(self.radec[:,3]<self.ran[2,1])\n",
    "            np.save(dirh+self.fname_base+'radec.npy',self.radec[index])\n",
    "        self.radec = np.load(dirh+self.fname_base+'radec.npy')\n",
    "\n",
    "    def gen_ldp(self,Mag,radius,flag_ldp):\n",
    "        rr = radius/60.*np.pi/180\n",
    "        self.nside_ldp = nside_ldp\n",
    "        self.npix_ldp  = hp.nside2npix(self.nside_ldp)\n",
    "        self.pix_ldp   = np.arange(self.npix_ldp)\n",
    "        if(flag_ldp==0):\n",
    "           thetal,phil = hp.pix2ang(self.nside_ldp,self.pix_ldp,nest=True) #90-dec,ra\n",
    "           ra_h,dec_h  = phil-pre.dra,np.pi/2-thetal #(ra here is not the standard ra)\n",
    "           index       = np.where((ra_h>self.ran[1,0]) & (ra_h<self.ran[1,1]) & (dec_h>self.ran[0,0]) & (dec_h<self.ran[0,1]))\n",
    "           self.radecl = np.zeros((self.npix_ldp,2))\n",
    "           self.radecl[:,0],self.radecl[:,1]= np.pi/2-thetal,phil-pre.dra #non-standard dec,ra-ldp\n",
    "           self.index = index\n",
    "           self.theta,self.phi = np.pi/2-self.radec[:,0],pre.dra+self.radec[:,1] #gal\n",
    "           mask_ldp = np.ones(self.npix_ldp)\n",
    "           vec_g  = hp.ang2vec(self.theta,self.phi) #galaxy\n",
    "           for i in np.arange(self.theta.shape[0]):\n",
    "               idx_search = hp.query_disc(self.nside_ldp,vec_g[i],rr,nest=True)\n",
    "               mask_ldp[idx_search] = 0\n",
    "           mask_edge = np.zeros(self.npix_ldp)\n",
    "           mask_edge[index] = 1\n",
    "           mask_ldp[mask_edge==0] = 0\n",
    "           self.radecl = self.radecl[mask_ldp==1]\n",
    "           np.save(dirh+self.fname_base+'rr'+np.str(radius)+'radec-ldp-healpix.npy',self.radecl)\n",
    "        self.radecl = np.load(dirh+self.fname_base+'rr'+np.str(radius)+'radec-ldp-healpix.npy')\n",
    "    def rr(self,x1,x2):\n",
    "        return np.sqrt((x1[0]-x2[0])*(x1[0]-x2[0])+(x1[1]-x2[1])*(x1[1]-x2[1]))\n",
    "    def gen_mask_edge(self,Nside): #change!\n",
    "        _Npix       = hp.nside2npix(Nside)\n",
    "        _Pix        = np.arange(_Npix)\n",
    "        _theta,_phi = hp.pix2ang(Nside,_Pix,nest=True) #90-dec,ra\n",
    "        _ra_h,_dec_h = _phi-pre.dra,np.pi/2-_theta #(ra here is not the standard ra)\n",
    "        _index      = np.where( (_ra_h>self.ran[1,0]) & (_ra_h<self.ran[1,1]) & (_dec_h>self.ran[0,0]) & (_dec_h<self.ran[0,1]) )\n",
    "        _Map        = np.zeros(_Npix)\n",
    "        _Map[_index]= 1\n",
    "        self.the_e,self.phi_e = _theta[_index],_phi[_index]\n",
    "        return _Map\n",
    "    def obs_Mask(self): #bright star Mask    #change!\n",
    "        self.nside_Mask = 512\n",
    "        self.Mask = np.load('obs/bassmask'+np.str(self.nside_Mask)+'.npy')\n",
    "    def center_theta_phi(self,tmap,the,phi,a_the,a_phi): #change!\n",
    "        _index  = hp.ang2pix(self.nside, the+a_the,phi+a_phi,nest=True)\n",
    "        _rmap   = np.zeros(self.npix)\n",
    "        _index_ori = hp.ang2pix(self.nside,the,phi,nest=True)\n",
    "        _rmap[_index_ori] = tmap[_index]\n",
    "        return _rmap\n",
    "    def gen_den_map_Mask(self,ra,dec,a_the,a_phi,flag_l): #change!\n",
    "        self.nside= nside\n",
    "        self.npix = hp.nside2npix(self.nside)\n",
    "        self.pix   = np.arange(self.npix)\n",
    "        _theta,_phi = np.pi/2-dec,ra+pre.dra\n",
    "        self.o_map     = pre.heapy_map(_theta,_phi,self.nside,True)\n",
    "        self.mask_edge      = self.gen_mask_edge(self.nside)\n",
    "        self.obs_Mask() #load bright star Mask\n",
    "        self.sMask             = self.center_theta_phi(self.Mask,self.the_e,self.phi_e,a_the,a_phi) #random choose Mask from observation\n",
    "        self.index_edge      = (self.mask_edge==1) #add Mask\n",
    "        self.g_mean   = np.mean(self.o_map[self.index_edge])\n",
    "        ##self.o_map     = self.o_map/self.g_mean-1\n",
    "        self.index_Mask     = ((self.mask_edge==1))#*(self.sMask==1))  #add Mask\n",
    "        self.g_map     = -np.ones(self.npix)\n",
    "        self.g_map[self.index_Mask]     = self.o_map[self.index_Mask]\n",
    "        _theta,_phi  = hp.pix2ang(self.nside,self.pix,nest=True)\n",
    "        self.theta_map,self.phi_map  = _theta[self.index_Mask],_phi[self.index_Mask]\n",
    "        if(flag_l==1): fname = self.fname_base+'rr'+np.str(radius)+'radec-ldp'\n",
    "        if(flag_l==0): fname = self.fname_base+'rr'+np.str(radius)+'radec-gal'\n",
    "        np.save(dirh+fname+'-den-Mask-healpix.npy',np.vstack((self.theta_map,self.phi_map,self.g_map[self.index_Mask]))) #y,x"
   ]
  },
  {
   "cell_type": "code",
   "execution_count": 4,
   "metadata": {},
   "outputs": [
    {
     "ename": "NameError",
     "evalue": "name 'density' is not defined",
     "output_type": "error",
     "traceback": [
      "\u001b[0;31m\u001b[0m",
      "\u001b[0;31mNameError\u001b[0mTraceback (most recent call last)",
      "\u001b[0;32m<ipython-input-4-5157b613adb7>\u001b[0m in \u001b[0;36m<module>\u001b[0;34m()\u001b[0m\n\u001b[0;32m----> 1\u001b[0;31m \u001b[0;32mprint\u001b[0m\u001b[0;34m(\u001b[0m\u001b[0mnp\u001b[0m\u001b[0;34m.\u001b[0m\u001b[0mcount_nonzero\u001b[0m\u001b[0;34m(\u001b[0m\u001b[0mdensity\u001b[0m\u001b[0;34m.\u001b[0m\u001b[0mmask_edge\u001b[0m\u001b[0;34m==\u001b[0m\u001b[0;36m1\u001b[0m\u001b[0;34m)\u001b[0m\u001b[0;34m,\u001b[0m\u001b[0mnp\u001b[0m\u001b[0;34m.\u001b[0m\u001b[0mcount_nonzero\u001b[0m\u001b[0;34m(\u001b[0m\u001b[0mdensity\u001b[0m\u001b[0;34m.\u001b[0m\u001b[0mo_map\u001b[0m\u001b[0;34m!=\u001b[0m\u001b[0;34m-\u001b[0m\u001b[0;36m1\u001b[0m\u001b[0;34m)\u001b[0m\u001b[0;34m)\u001b[0m\u001b[0;34m\u001b[0m\u001b[0m\n\u001b[0m\u001b[1;32m      2\u001b[0m \u001b[0;32mprint\u001b[0m\u001b[0;34m(\u001b[0m\u001b[0mnp\u001b[0m\u001b[0;34m.\u001b[0m\u001b[0mcount_nonzero\u001b[0m\u001b[0;34m(\u001b[0m\u001b[0mdensity\u001b[0m\u001b[0;34m.\u001b[0m\u001b[0mindex_Mask\u001b[0m\u001b[0;34m==\u001b[0m\u001b[0;36m1\u001b[0m\u001b[0;34m)\u001b[0m\u001b[0;34m,\u001b[0m\u001b[0mnp\u001b[0m\u001b[0;34m.\u001b[0m\u001b[0mcount_nonzero\u001b[0m\u001b[0;34m(\u001b[0m\u001b[0mdensity\u001b[0m\u001b[0;34m.\u001b[0m\u001b[0mg_map\u001b[0m\u001b[0;34m!=\u001b[0m\u001b[0;34m-\u001b[0m\u001b[0;36m1\u001b[0m\u001b[0;34m)\u001b[0m\u001b[0;34m)\u001b[0m\u001b[0;34m\u001b[0m\u001b[0m\n",
      "\u001b[0;31mNameError\u001b[0m: name 'density' is not defined"
     ]
    }
   ],
   "source": [
    "print(np.count_nonzero(density.mask_edge==1),np.count_nonzero(density.o_map!=-1))\n",
    "print(np.count_nonzero(density.index_Mask==1),np.count_nonzero(density.g_map!=-1))"
   ]
  },
  {
   "cell_type": "code",
   "execution_count": 5,
   "metadata": {},
   "outputs": [
    {
     "name": "stdout",
     "output_type": "stream",
     "text": [
      "snapshot=13,z1=0.625111,z2=0.761583,zm=0.693347,iz=2,3\n",
      "abundance,_mlimit=13.3046,nsub=19827\n",
      "n11=2,n21=3,d1=1621.37,d2=1908.56\n",
      "snapshot=14,z1=0.500822,z2=0.625111,zm=0.562966,iz=2,2\n",
      "abundance,_mlimit=13.3046,nsub=22001\n",
      "n11=2,n21=2,d1=1339.89,d2=1621.37\n",
      "snapshot=15,z1=0.381529,z2=0.500822,zm=0.441175,iz=2,2\n",
      "abundance,_mlimit=13.3046,nsub=24132\n",
      "n11=1,n21=2,d1=1050.94,d2=1339.89\n",
      "snapshot=16,z1=0.274441,z2=0.381529,zm=0.327985,iz=1,1\n",
      "abundance,_mlimit=13.1943,nsub=36660\n",
      "n11=1,n21=1,d1=775.416,d2=1050.94\n",
      "snapshot=17,z1=0.175902,z2=0.274441,zm=0.225171,iz=1,1\n",
      "abundance,_mlimit=13.1943,nsub=39251\n",
      "n11=0,n21=1,d1=508.316,d2=775.416\n",
      "snapshot=18,z1=0.0856633,z2=0.175902,zm=0.130783,iz=0,0\n",
      "abundance,_mlimit=13.1333,nsub=49521\n",
      "n11=0,n21=0,d1=252.472,d2=508.316\n",
      "snapshot=19,z1=0,z2=0.0856633,zm=0.0428316,iz=0,0\n",
      "abundance,_mlimit=13.1333,nsub=52131\n",
      "n11=0,n21=0,d1=0,d2=252.472\n"
     ]
    }
   ],
   "source": [
    "Mag       = -22\n",
    "radius    = 7#arcmin\n",
    "om0,ol0   = 0.268,0.732\n",
    "dirh      = '/home/fydong/work/8100/cal_halo/data/subhalo_pos/'\n",
    "density   = DENSITY(om0,ol0)\n",
    "\n",
    "# load subhalos and do abudance matching\n",
    "flag_load = 0\n",
    "# gain ra,dec for subhalos\n",
    "flag_radec= 0\n",
    "# generate the LDPs\n",
    "flag_ldp  =  0\n",
    "\n",
    "density.gen_halo(Mag,flag_load)\n",
    "density.gen_radec_halo(Mag,flag_radec)\n",
    "# gain density map for LDPs/subhalos\n",
    "flag_den_ldp = 1\n",
    "if(flag_den_ldp==1):\n",
    "    density.gen_ldp(Mag,radius,flag_ldp)\n",
    "#a_the,a_phi = np.pi*(0.),np.pi*1.6\n",
    "#a_the,a_phi = np.pi*(-0.05),np.pi*1.3\n",
    "#a_the,a_phi = np.pi*(-0.05),np.pi*0.7\n",
    "#a_the,a_phi = np.pi*(-0.06),np.pi*0.5 \n",
    "a_the,a_phi = np.pi*(-0.),-np.pi*0.5\n",
    "density.gen_den_map_Mask(density.radecl[:,1],density.radecl[:,0],a_the,a_phi,flag_den_ldp)"
   ]
  },
  {
   "cell_type": "code",
   "execution_count": 16,
   "metadata": {},
   "outputs": [
    {
     "data": {
      "text/plain": [
       "array([13, 14, 15, 16, 17, 18, 19, 20, 21, 22, 23], dtype=int32)"
      ]
     },
     "execution_count": 16,
     "metadata": {},
     "output_type": "execute_result"
    }
   ],
   "source": [
    "density.snap"
   ]
  },
  {
   "cell_type": "code",
   "execution_count": 357,
   "metadata": {},
   "outputs": [
    {
     "name": "stdout",
     "output_type": "stream",
     "text": [
      "(1.9133967256508617, 1.2281959279389314)\n",
      "(1.935883754311679, 1.2057088992781138)\n"
     ]
    }
   ],
   "source": [
    "print(density.the_e.max(),density.the_e.min())\n",
    "print(density.phi_e.max(),density.phi_e.min())"
   ]
  },
  {
   "cell_type": "code",
   "execution_count": 11,
   "metadata": {},
   "outputs": [
    {
     "data": {
      "image/png": "[encoded data removed]",
      "text/plain": [
       "<Figure size 612x388.8 with 2 Axes>"
      ]
     },
     "metadata": {
      "needs_background": "light"
     },
     "output_type": "display_data"
    }
   ],
   "source": [
    "hp.mollview(density.g_map,nest=True)"
   ]
  },
  {
   "cell_type": "code",
   "execution_count": 18,
   "metadata": {},
   "outputs": [
    {
     "data": {
      "image/png": "[encoded data removed]",
      "text/plain": [
       "<Figure size 612x388.8 with 2 Axes>"
      ]
     },
     "metadata": {
      "needs_background": "light"
     },
     "output_type": "display_data"
    }
   ],
   "source": [
    "hp.mollview(density.o_map,nest=True)"
   ]
  },
  {
   "cell_type": "code",
   "execution_count": 343,
   "metadata": {},
   "outputs": [
    {
     "data": {
      "text/plain": [
       "(array([33667.,  4101.,  3858.,  5965.,  2626.,  2366.,  2186.,  4072.,\n",
       "         1982.,  1864.,  3480.,  1592.,  1544.,  1418.,  3093.,  1492.,\n",
       "         1349.,  2594.,  1218.,  1181.,  1200.,  2408.,  1064.,  1071.,\n",
       "          962.,  1939.,  1003.,  1075.,  1901.,   903.,   834.,   860.,\n",
       "         1688.,   833.,   728.,  1524.,   715.,   678.,   651.,  1364.,\n",
       "          674.,   712.,  1247.,   593.,   505.,   728.,  1304.,   661.,\n",
       "          550.,  4045.]),\n",
       " array([-1.        , -0.92761988, -0.85523976, -0.78285964, -0.71047952,\n",
       "        -0.6380994 , -0.56571929, -0.49333917, -0.42095905, -0.34857893,\n",
       "        -0.27619881, -0.20381869, -0.13143857, -0.05905845,  0.01332167,\n",
       "         0.08570179,  0.1580819 ,  0.23046202,  0.30284214,  0.37522226,\n",
       "         0.44760238,  0.5199825 ,  0.59236262,  0.66474274,  0.73712286,\n",
       "         0.80950298,  0.8818831 ,  0.95426321,  1.02664333,  1.09902345,\n",
       "         1.17140357,  1.24378369,  1.31616381,  1.38854393,  1.46092405,\n",
       "         1.53330417,  1.60568429,  1.6780644 ,  1.75044452,  1.82282464,\n",
       "         1.89520476,  1.96758488,  2.039965  ,  2.11234512,  2.18472524,\n",
       "         2.25710536,  2.32948548,  2.4018656 ,  2.47424571,  2.54662583,\n",
       "         2.61900595]),\n",
       " <a list of 1 Patch objects>)"
      ]
     },
     "execution_count": 343,
     "metadata": {},
     "output_type": "execute_result"
    },
    {
     "data": {
      "image/png": "[encoded data removed]",
      "text/plain": [
       "<Figure size 432x288 with 1 Axes>"
      ]
     },
     "metadata": {
      "needs_background": "light"
     },
     "output_type": "display_data"
    }
   ],
   "source": [
    "plt.hist(density.o_map[density.index_edge],bins=50,color='r',histtype='step')\n",
    "plt.hist(density.g_map[density.index_Mask],bins=50,color='g',histtype='step')"
   ]
  },
  {
   "cell_type": "code",
   "execution_count": 289,
   "metadata": {},
   "outputs": [
    {
     "name": "stdout",
     "output_type": "stream",
     "text": [
      "29108\n"
     ]
    }
   ],
   "source": [
    "print(np.count_nonzero(density.o_map[density.index_edge]==-1))"
   ]
  },
  {
   "cell_type": "code",
   "execution_count": 362,
   "metadata": {},
   "outputs": [
    {
     "data": {
      "image/png": "[encoded data removed]",
      "text/plain": [
       "<Figure size 612x388.8 with 2 Axes>"
      ]
     },
     "metadata": {
      "needs_background": "light"
     },
     "output_type": "display_data"
    }
   ],
   "source": [
    "a_the,a_phi = np.pi*(-0.5),-np.pi*0.3\n",
    "hp.mollview(density.Mask,rot=(a_the*180/np.pi,a_phi*0.15*180/np.pi,0),nest=True)"
   ]
  },
  {
   "cell_type": "code",
   "execution_count": 331,
   "metadata": {},
   "outputs": [
    {
     "data": {
      "image/png": "[encoded data removed]",
      "text/plain": [
       "<Figure size 612x388.8 with 2 Axes>"
      ]
     },
     "metadata": {
      "needs_background": "light"
     },
     "output_type": "display_data"
    },
    {
     "data": {
      "image/png": "[encoded data removed]",
      "text/plain": [
       "<Figure size 612x388.8 with 2 Axes>"
      ]
     },
     "metadata": {
      "needs_background": "light"
     },
     "output_type": "display_data"
    },
    {
     "data": {
      "image/png": "[encoded data removed]",
      "text/plain": [
       "<Figure size 612x388.8 with 2 Axes>"
      ]
     },
     "metadata": {
      "needs_background": "light"
     },
     "output_type": "display_data"
    }
   ],
   "source": [
    "#Mask = np.load('obs/bassmask1024.npy')\n",
    "hp.mollview(Mask,nest=True)\n",
    "hp.mollview(density.mask_edge,nest=True)\n",
    "hp.mollview(density.sMask,nest=True)"
   ]
  },
  {
   "cell_type": "code",
   "execution_count": null,
   "metadata": {
    "collapsed": true
   },
   "outputs": [],
   "source": []
  }
 ],
 "metadata": {
  "kernelspec": {
   "display_name": "Python 2",
   "language": "python",
   "name": "python2"
  },
  "language_info": {
   "codemirror_mode": {
    "name": "ipython",
    "version": 3
   },
   "file_extension": ".py",
   "mimetype": "text/x-python",
   "name": "python",
   "nbconvert_exporter": "python",
   "pygments_lexer": "ipython3",
   "version": "3.7.1"
  }
 },
 "nbformat": 4,
 "nbformat_minor": 2
}
